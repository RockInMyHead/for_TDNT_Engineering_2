{
 "cells": [
  {
   "cell_type": "markdown",
   "metadata": {},
   "source": [
    "ОПИСАНИЕ:\n",
    "Дана упорядоченная последовательность чисел от 1 до N. Из него могли удалить одно число, тогда остальные числа перемешались. Найдите номер, который был удален.\n",
    "\n",
    "Пример:\n",
    "\n",
    "Начальная последовательность массива:[1,2,3,4,5,6,7,8,9]\n",
    "Смешанный массив с одним удаленным числом:[3,2,4,6,7,8,1,9]\n",
    "Ваша функция должна возвращать int 5.\n",
    "Если ни одно число не было удалено из начального массива, ваша функция должна вернуть int 0.\n",
    "\n",
    "Примечание : N может быть 1 или меньше (в последнем случае первый массив будет [])."
   ]
  },
  {
   "cell_type": "code",
   "execution_count": 3,
   "metadata": {},
   "outputs": [
    {
     "name": "stdout",
     "output_type": "stream",
     "text": [
      "6 6\n",
      "0 0\n",
      "0 0\n"
     ]
    }
   ],
   "source": [
    "def find_deleted_number(arr, mixed_arr):\n",
    "    a_1 = set(arr)\n",
    "    b_1 = set(mixed_arr)\n",
    "    g  = 0\n",
    "    result = (a_1.symmetric_difference(b_1))\n",
    "    for element in result:\n",
    "        if element == None:\n",
    "            g  = 0\n",
    "        else:\n",
    "            g = element\n",
    "    return g\n",
    "\n",
    "print(find_deleted_number([1,2,3,4,5,6,7,8,9], [5,7,9,4,8,1,2,3]), 6)\n",
    "print(find_deleted_number([1,2,3,4,5,6,7], [2,3,6,1,5,4,7]), 0)\n",
    "print(find_deleted_number([1,2,3,4,5,6,7,8,9], [5,7,6,9,4,8,1,2,3]), 0)"
   ]
  },
  {
   "cell_type": "markdown",
   "metadata": {},
   "source": [
    "ОПИСАНИЕ:\n",
    "На этот раз ни истории, ни теории. В примерах ниже показано, как написать функцию accum:\n",
    "\n",
    "Примеры:\n",
    "accum(\"abcd\") -> \"A-Bb-Ccc-Dddd\"\n",
    "accum(\"RqaEzty\") -> \"R-Qq-Aaa-Eeee-Zzzzz-Tttttt-Yyyyyyy\"\n",
    "accum(\"cwAt\") -> \"C-Ww-Aaa-Tttt\"\n",
    "Параметр accum представляет собой строку, включающую только буквы от a..zи A..Z."
   ]
  },
  {
   "cell_type": "code",
   "execution_count": 4,
   "metadata": {},
   "outputs": [
    {
     "name": "stdout",
     "output_type": "stream",
     "text": [
      "['p', 'g', 'l', 'n', 'R', 'x', 'q', 'e', 'n', 'U']\n",
      "Z-Pp-Ggg-Llll-Nnnnn-Rrrrrr-Xxxxxxx-Qqqqqqqq-Eeeeeeeee-Nnnnnnnnnn-Uuuuuuuuuuu\n",
      "['y', 'f', 'f', 's', 'G', 'e', 'y', 'y', 'l', 'B']\n",
      "N-Yy-Fff-Ffff-Sssss-Gggggg-Eeeeeee-Yyyyyyyy-Yyyyyyyyy-Llllllllll-Bbbbbbbbbbb\n",
      "['j', 't', 'k', 'u', 'B', 'o', 'v', 'q', 'r', 'U']\n",
      "M-Jj-Ttt-Kkkk-Uuuuu-Bbbbbb-Ooooooo-Vvvvvvvv-Qqqqqqqqq-Rrrrrrrrrr-Uuuuuuuuuuu\n"
     ]
    }
   ],
   "source": [
    "def accum(s):\n",
    "    s = list(s)\n",
    "    result = s.pop(0)\n",
    "    print (s)\n",
    "    for i in range(len(s)):\n",
    "        #print (i)\n",
    "        if i == 0:\n",
    "            result += \"-\" + str(s[i] * 2).title()\n",
    "        if i > 0:\n",
    "            result += \"-\" + str(s[i] * (i+2)).title()\n",
    "    return result\n",
    "\n",
    "print(accum(\"ZpglnRxqenU\"))\n",
    "print(accum(\"NyffsGeyylB\"))\n",
    "print(accum(\"MjtkuBovqrU\"))"
   ]
  },
  {
   "cell_type": "markdown",
   "metadata": {},
   "source": [
    "ОПИСАНИЕ:\n",
    "Запишите число в развернутом виде\n",
    "Вам будет присвоен номер, и вам нужно будет вернуть его в виде строки в расширенной форме . Например:\n",
    "\n",
    "expanded_form(12) # Should return '10 + 2'\n",
    "expanded_form(42) # Should return '40 + 2'\n",
    "expanded_form(70304) # Should return '70000 + 300 + 4'\n",
    "ПРИМЕЧАНИЕ. Все числа будут целыми числами больше 0."
   ]
  },
  {
   "cell_type": "code",
   "execution_count": 6,
   "metadata": {},
   "outputs": [
    {
     "name": "stdout",
     "output_type": "stream",
     "text": [
      "400000000 + 20000000 + 300000 + 70000 + 20 + 2\n",
      "70000 + 300 + 4\n",
      "9000000\n"
     ]
    }
   ],
   "source": [
    "def expanded_form(num):\n",
    "    len_num = len(str(num))\n",
    "    str_num = list(str(num))\n",
    "    result = \"\"\n",
    "    intermadiate_result = \"\"\n",
    "    for i in range(len(str_num)-1):\n",
    "        #print (\"i : \" + str(i))\n",
    "        if (str_num[i] != \"0\"):\n",
    "            intermadiate_result = str_num[i]\n",
    "            #print (\"intermadiate_result : \" + str(intermadiate_result))\n",
    "            if str_num[i+1] == \"0\":\n",
    "                #intermadiate_result += \"0\"\n",
    "                for j in range(len(str_num) - i - 1):\n",
    "                    intermadiate_result += \"0\"\n",
    "            else:\n",
    "                for j in range(len(str_num) - i-1):\n",
    "                    intermadiate_result += \"0\"\n",
    "            result += intermadiate_result + \" + \"\n",
    "            intermadiate_result = \"\"\n",
    "        else:\n",
    "            pass\n",
    "    if str_num[-1] != \"0\":\n",
    "        result += str_num[-1]\n",
    "    else:\n",
    "        result = result[:-3]\n",
    "    #print (str_num)\n",
    "    return result\n",
    "\n",
    "print(expanded_form(420370022))\n",
    "print(expanded_form(70304))\n",
    "print(expanded_form(9000000))"
   ]
  },
  {
   "cell_type": "markdown",
   "metadata": {},
   "source": [
    "ОПИСАНИЕ:\n",
    "Панграмма – это предложение, которое содержит каждую букву алфавита хотя бы один раз. Например, предложение «Быстрая бурая лиса прыгает через ленивого пса» является панграммой, поскольку в нем хотя бы один раз используются буквы AZ (регистр не имеет значения).\n",
    "\n",
    "Учитывая строку, определите, является ли она панграммой. Возвращайте True, если это так, и False, если нет. Не обращайте внимания на цифры и знаки препинания."
   ]
  },
  {
   "cell_type": "code",
   "execution_count": 7,
   "metadata": {},
   "outputs": [
    {
     "name": "stdout",
     "output_type": "stream",
     "text": [
      "\n",
      "True True Incorrect answer for 'The quick brown fox jumps over the lazy dog.'\n",
      "\n",
      "True True Incorrect answer for 'Cwm fjord bank glyphs vext quiz'\n",
      "\n",
      "True True Incorrect answer for 'Pack my box with five dozen liquor jugs.'\n",
      "\n",
      "True True Incorrect answer for 'How quickly daft jumping zebras vex.'\n",
      "\n",
      "True True Incorrect answer for 'ABCD45EFGH,IJK,LMNOPQR56STUVW3XYZ'\n"
     ]
    }
   ],
   "source": [
    "def is_pangram(string):\n",
    "    a = \"qazwsxedcrfvtgbyhnujmikolp\"\n",
    "    for i in string:\n",
    "        if i.lower() in a:\n",
    "            a = a.replace(i.lower(),\"\")\n",
    "    print (a)\n",
    "    if a == \"\":\n",
    "        return True\n",
    "    else:\n",
    "        return False\n",
    "    \n",
    "pangrams = [ \"The quick brown fox jumps over the lazy dog.\",\n",
    "                     \"Cwm fjord bank glyphs vext quiz\",\n",
    "                     \"Pack my box with five dozen liquor jugs.\",\n",
    "                     \"How quickly daft jumping zebras vex.\",\n",
    "                     \"ABCD45EFGH,IJK,LMNOPQR56STUVW3XYZ\" ]\n",
    "for pangram in pangrams:\n",
    "            print(is_pangram(pangram), True, f\"Incorrect answer for '{pangram}'\")"
   ]
  },
  {
   "cell_type": "markdown",
   "metadata": {},
   "source": []
  }
 ],
 "metadata": {
  "kernelspec": {
   "display_name": "Python 3",
   "language": "python",
   "name": "python3"
  },
  "language_info": {
   "codemirror_mode": {
    "name": "ipython",
    "version": 3
   },
   "file_extension": ".py",
   "mimetype": "text/x-python",
   "name": "python",
   "nbconvert_exporter": "python",
   "pygments_lexer": "ipython3",
   "version": "3.9.8"
  }
 },
 "nbformat": 4,
 "nbformat_minor": 2
}
